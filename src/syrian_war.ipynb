{
 "cells": [
  {
   "cell_type": "code",
   "execution_count": 1,
   "metadata": {},
   "outputs": [],
   "source": [
    "import pandas as pd\n",
    "import datetime"
   ]
  },
  {
   "cell_type": "code",
   "execution_count": 2,
   "metadata": {},
   "outputs": [
    {
     "output_type": "execute_result",
     "data": {
      "text/plain": [
       "   data_id  iso event_id_cnty  event_id_no_cnty     event_date  year  \\\n",
       "0  7071632  760      SYR77825             77825  25 April 2020  2020   \n",
       "1  7071641  760      SYR77882             77882  25 April 2020  2020   \n",
       "2  7071661  760      SYR77793             77793  25 April 2020  2020   \n",
       "3  7071675  760      SYR77808             77808  25 April 2020  2020   \n",
       "4  7071677  760      SYR77810             77810  25 April 2020  2020   \n",
       "\n",
       "   time_precision                  event_type  \\\n",
       "0               3  Violence against civilians   \n",
       "1               1  Explosions/Remote violence   \n",
       "2               1                     Battles   \n",
       "3               1                     Battles   \n",
       "4               1                     Battles   \n",
       "\n",
       "                      sub_event_type                         actor1  ...  \\\n",
       "0                             Attack              Civilians (Syria)  ...   \n",
       "1  Shelling/artillery/missile attack  QSD: Syrian Democratic Forces  ...   \n",
       "2                        Armed clash  QSD: Syrian Democratic Forces  ...   \n",
       "3                        Armed clash          Sultan Murad Division  ...   \n",
       "4                        Armed clash      HTS: Hayat Tahrir al Sham  ...   \n",
       "\n",
       "     location  latitude  longitude geo_precision source source_scale  \\\n",
       "0  Ras Al Ain   36.8494    40.0747             2   SHAM     National   \n",
       "1   Tal Tamer   36.6534    40.3718             2   SHAM     National   \n",
       "2      Basira   35.1580    40.4277             2   SOHR        Other   \n",
       "3      Al Bab   36.3697    37.5149             1   SOHR        Other   \n",
       "4       Idleb   35.9290    36.6353             1   SOHR        Other   \n",
       "\n",
       "                                               notes fatalities   timestamp  \\\n",
       "0  As reported on 25 April 2020, a man's body was...          1  1588021902   \n",
       "1  On 25 April 2020, Turkey backed JWS whom are o...          2  1588021902   \n",
       "2  On 25 April 2020, an unknown gunmen presumably...          0  1588021902   \n",
       "3  On 25 April 2020, clashes took place among Sul...          0  1588021902   \n",
       "4  On 25 April 2020, an unknown gunmen shot and k...          1  1588021902   \n",
       "\n",
       "   iso3  \n",
       "0   SYR  \n",
       "1   SYR  \n",
       "2   SYR  \n",
       "3   SYR  \n",
       "4   SYR  \n",
       "\n",
       "[5 rows x 28 columns]"
      ],
      "text/html": "<div>\n<style scoped>\n    .dataframe tbody tr th:only-of-type {\n        vertical-align: middle;\n    }\n\n    .dataframe tbody tr th {\n        vertical-align: top;\n    }\n\n    .dataframe thead th {\n        text-align: right;\n    }\n</style>\n<table border=\"1\" class=\"dataframe\">\n  <thead>\n    <tr style=\"text-align: right;\">\n      <th></th>\n      <th>data_id</th>\n      <th>iso</th>\n      <th>event_id_cnty</th>\n      <th>event_id_no_cnty</th>\n      <th>event_date</th>\n      <th>year</th>\n      <th>time_precision</th>\n      <th>event_type</th>\n      <th>sub_event_type</th>\n      <th>actor1</th>\n      <th>...</th>\n      <th>location</th>\n      <th>latitude</th>\n      <th>longitude</th>\n      <th>geo_precision</th>\n      <th>source</th>\n      <th>source_scale</th>\n      <th>notes</th>\n      <th>fatalities</th>\n      <th>timestamp</th>\n      <th>iso3</th>\n    </tr>\n  </thead>\n  <tbody>\n    <tr>\n      <th>0</th>\n      <td>7071632</td>\n      <td>760</td>\n      <td>SYR77825</td>\n      <td>77825</td>\n      <td>25 April 2020</td>\n      <td>2020</td>\n      <td>3</td>\n      <td>Violence against civilians</td>\n      <td>Attack</td>\n      <td>Civilians (Syria)</td>\n      <td>...</td>\n      <td>Ras Al Ain</td>\n      <td>36.8494</td>\n      <td>40.0747</td>\n      <td>2</td>\n      <td>SHAM</td>\n      <td>National</td>\n      <td>As reported on 25 April 2020, a man's body was...</td>\n      <td>1</td>\n      <td>1588021902</td>\n      <td>SYR</td>\n    </tr>\n    <tr>\n      <th>1</th>\n      <td>7071641</td>\n      <td>760</td>\n      <td>SYR77882</td>\n      <td>77882</td>\n      <td>25 April 2020</td>\n      <td>2020</td>\n      <td>1</td>\n      <td>Explosions/Remote violence</td>\n      <td>Shelling/artillery/missile attack</td>\n      <td>QSD: Syrian Democratic Forces</td>\n      <td>...</td>\n      <td>Tal Tamer</td>\n      <td>36.6534</td>\n      <td>40.3718</td>\n      <td>2</td>\n      <td>SHAM</td>\n      <td>National</td>\n      <td>On 25 April 2020, Turkey backed JWS whom are o...</td>\n      <td>2</td>\n      <td>1588021902</td>\n      <td>SYR</td>\n    </tr>\n    <tr>\n      <th>2</th>\n      <td>7071661</td>\n      <td>760</td>\n      <td>SYR77793</td>\n      <td>77793</td>\n      <td>25 April 2020</td>\n      <td>2020</td>\n      <td>1</td>\n      <td>Battles</td>\n      <td>Armed clash</td>\n      <td>QSD: Syrian Democratic Forces</td>\n      <td>...</td>\n      <td>Basira</td>\n      <td>35.1580</td>\n      <td>40.4277</td>\n      <td>2</td>\n      <td>SOHR</td>\n      <td>Other</td>\n      <td>On 25 April 2020, an unknown gunmen presumably...</td>\n      <td>0</td>\n      <td>1588021902</td>\n      <td>SYR</td>\n    </tr>\n    <tr>\n      <th>3</th>\n      <td>7071675</td>\n      <td>760</td>\n      <td>SYR77808</td>\n      <td>77808</td>\n      <td>25 April 2020</td>\n      <td>2020</td>\n      <td>1</td>\n      <td>Battles</td>\n      <td>Armed clash</td>\n      <td>Sultan Murad Division</td>\n      <td>...</td>\n      <td>Al Bab</td>\n      <td>36.3697</td>\n      <td>37.5149</td>\n      <td>1</td>\n      <td>SOHR</td>\n      <td>Other</td>\n      <td>On 25 April 2020, clashes took place among Sul...</td>\n      <td>0</td>\n      <td>1588021902</td>\n      <td>SYR</td>\n    </tr>\n    <tr>\n      <th>4</th>\n      <td>7071677</td>\n      <td>760</td>\n      <td>SYR77810</td>\n      <td>77810</td>\n      <td>25 April 2020</td>\n      <td>2020</td>\n      <td>1</td>\n      <td>Battles</td>\n      <td>Armed clash</td>\n      <td>HTS: Hayat Tahrir al Sham</td>\n      <td>...</td>\n      <td>Idleb</td>\n      <td>35.9290</td>\n      <td>36.6353</td>\n      <td>1</td>\n      <td>SOHR</td>\n      <td>Other</td>\n      <td>On 25 April 2020, an unknown gunmen shot and k...</td>\n      <td>1</td>\n      <td>1588021902</td>\n      <td>SYR</td>\n    </tr>\n  </tbody>\n</table>\n<p>5 rows × 28 columns</p>\n</div>"
     },
     "metadata": {},
     "execution_count": 2
    }
   ],
   "source": [
    "df = pd.read_csv('../data/syrian_war.csv')\n",
    "df.head()"
   ]
  },
  {
   "cell_type": "code",
   "execution_count": 3,
   "metadata": {},
   "outputs": [
    {
     "output_type": "execute_result",
     "data": {
      "text/plain": [
       "Index(['data_id', 'iso', 'event_id_cnty', 'event_id_no_cnty', 'event_date',\n",
       "       'year', 'time_precision', 'event_type', 'sub_event_type', 'actor1',\n",
       "       'assoc_actor_1', 'inter1', 'interaction', 'region', 'country', 'admin1',\n",
       "       'admin2', 'admin3', 'location', 'latitude', 'longitude',\n",
       "       'geo_precision', 'source', 'source_scale', 'notes', 'fatalities',\n",
       "       'timestamp', 'iso3'],\n",
       "      dtype='object')"
      ]
     },
     "metadata": {},
     "execution_count": 3
    }
   ],
   "source": [
    "df.columns"
   ]
  },
  {
   "cell_type": "code",
   "execution_count": 4,
   "metadata": {},
   "outputs": [
    {
     "output_type": "execute_result",
     "data": {
      "text/plain": [
       "array(['Ras Al Ain', 'Tal Tamer', 'Basira', ...,\n",
       "       'Quneitra Border Crossing', 'Al Gheidhah', 'Eastern Samadaniyeh'],\n",
       "      dtype=object)"
      ]
     },
     "metadata": {},
     "execution_count": 4
    }
   ],
   "source": [
    "df['location'].unique()"
   ]
  },
  {
   "cell_type": "code",
   "execution_count": 5,
   "metadata": {},
   "outputs": [
    {
     "output_type": "execute_result",
     "data": {
      "text/plain": [
       "3328"
      ]
     },
     "metadata": {},
     "execution_count": 5
    }
   ],
   "source": [
    "len(df['location'].unique())"
   ]
  },
  {
   "cell_type": "code",
   "execution_count": 6,
   "metadata": {},
   "outputs": [
    {
     "output_type": "stream",
     "name": "stdout",
     "text": [
      "<class 'pandas.core.frame.DataFrame'>\nRangeIndex: 61670 entries, 0 to 61669\nData columns (total 28 columns):\n #   Column            Non-Null Count  Dtype  \n---  ------            --------------  -----  \n 0   data_id           61670 non-null  int64  \n 1   iso               61670 non-null  int64  \n 2   event_id_cnty     61670 non-null  object \n 3   event_id_no_cnty  61670 non-null  int64  \n 4   event_date        61670 non-null  object \n 5   year              61670 non-null  int64  \n 6   time_precision    61670 non-null  int64  \n 7   event_type        61670 non-null  object \n 8   sub_event_type    61670 non-null  object \n 9   actor1            61670 non-null  object \n 10  assoc_actor_1     12528 non-null  object \n 11  inter1            61670 non-null  int64  \n 12  interaction       61670 non-null  int64  \n 13  region            61670 non-null  object \n 14  country           61670 non-null  object \n 15  admin1            61670 non-null  object \n 16  admin2            61670 non-null  object \n 17  admin3            61670 non-null  object \n 18  location          61670 non-null  object \n 19  latitude          61670 non-null  float64\n 20  longitude         61670 non-null  float64\n 21  geo_precision     61670 non-null  int64  \n 22  source            61670 non-null  object \n 23  source_scale      61670 non-null  object \n 24  notes             61670 non-null  object \n 25  fatalities        61670 non-null  int64  \n 26  timestamp         61670 non-null  int64  \n 27  iso3              61670 non-null  object \ndtypes: float64(2), int64(10), object(16)\nmemory usage: 13.2+ MB\n"
     ]
    }
   ],
   "source": [
    "df.info()"
   ]
  },
  {
   "cell_type": "code",
   "execution_count": 7,
   "metadata": {},
   "outputs": [
    {
     "output_type": "execute_result",
     "data": {
      "text/plain": [
       "array(['Violence against civilians', 'Explosions/Remote violence',\n",
       "       'Battles', 'Strategic developments', 'Riots', 'Protests'],\n",
       "      dtype=object)"
      ]
     },
     "metadata": {},
     "execution_count": 7
    }
   ],
   "source": [
    "df['event_type'].unique()"
   ]
  },
  {
   "cell_type": "code",
   "execution_count": null,
   "metadata": {},
   "outputs": [],
   "source": []
  }
 ],
 "metadata": {
  "kernelspec": {
   "display_name": "Python 3",
   "language": "python",
   "name": "python3"
  }
 },
 "nbformat": 4,
 "nbformat_minor": 2
}